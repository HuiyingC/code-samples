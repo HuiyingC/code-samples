{
 "cells": [
  {
   "cell_type": "code",
   "execution_count": 2,
   "metadata": {},
   "outputs": [],
   "source": [
    "import sys\n",
    "#!{sys.executable} -m pip install torch\n",
    "import numpy as np\n",
    "import pandas as pd\n",
    "from sklearn.metrics import roc_auc_score\n",
    "from models.features import Number, Category, Sequence, Features\n",
    "from models.transformers.column import (StandardScaler, CategoryEncoder, SequenceEncoder)\n",
    "from models.pytorch.data import Dataset\n",
    "from models.pytorch import WideDeep, DeepFM, DNN, DIN, AttentionGroup\n",
    "from functions import fit, predict, create_dataloader_fn\n",
    "\n",
    "\n",
    "\n",
    "train_df = pd.read_csv(\"train.csv\")\n",
    "test_df = pd.read_csv(\"test.csv\")\n",
    "\n",
    "train_df.movieId = train_df.movieId.astype(str)\n",
    "test_df.movieId = test_df.movieId.astype(str)\n",
    "\n",
    "train_df.histHighRatedMovieIds = train_df.histHighRatedMovieIds.astype(str)\n",
    "test_df.histHighRatedMovieIds = test_df.histHighRatedMovieIds.astype(str)\n",
    "\n",
    "train_df.negHistMovieIds = train_df.negHistMovieIds.astype(str)\n",
    "test_df.negHistMovieIds = test_df.negHistMovieIds.astype(str)"
   ]
  },
  {
   "cell_type": "code",
   "execution_count": 3,
   "metadata": {},
   "outputs": [],
   "source": [
    "number_features = [\n",
    "    Number('age', StandardScaler())\n",
    "]\n",
    "\n",
    "category_features = [\n",
    "    Category('gender', CategoryEncoder(min_cnt=1)),\n",
    "    Category('movieId', CategoryEncoder(min_cnt=1)),\n",
    "    Category('occupation', CategoryEncoder(min_cnt=1)),\n",
    "    Category('zipCode', CategoryEncoder(min_cnt=1))\n",
    "]\n",
    "\n",
    "sequence_features = [\n",
    "    Sequence('genres', SequenceEncoder(sep='|', min_cnt=1)),\n",
    "    Sequence('histHighRatedMovieIds', SequenceEncoder(sep='|', min_cnt=1)),\n",
    "    Sequence('negHistMovieIds', SequenceEncoder(sep='|', min_cnt=1))\n",
    "]\n",
    "\n",
    "features, train_loader, valid_loader = create_dataloader_fn(\n",
    "    number_features, category_features, sequence_features, 64, train_df, 'label', test_df, 4)\n",
    "\n",
    "def evaluation(df, dataloader):\n",
    "    preds = predict(model, dataloader)\n",
    "    return roc_auc_score(df['label'], preds.ravel())\n"
   ]
  },
  {
   "cell_type": "code",
   "execution_count": 4,
   "metadata": {},
   "outputs": [
    {
     "name": "stdout",
     "output_type": "stream",
     "text": [
      "DNN(\n",
      "  (embedding:gender): Embedding(4, 16, padding_idx=0)\n",
      "  (embedding:movieId): Embedding(1610, 16, padding_idx=0)\n",
      "  (embedding:occupation): Embedding(23, 16, padding_idx=0)\n",
      "  (embedding:zipCode): Embedding(2676, 16, padding_idx=0)\n",
      "  (embedding:genres): Embedding(20, 16, padding_idx=0)\n",
      "  (embedding:histHighRatedMovieIds): Embedding(2849, 16, padding_idx=0)\n",
      "  (embedding:negHistMovieIds): Embedding(3886, 16, padding_idx=0)\n",
      "  (pooling:genres): MaxPooling()\n",
      "  (pooling:histHighRatedMovieIds): MaxPooling()\n",
      "  (pooling:negHistMovieIds): MaxPooling()\n",
      "  (mlp): MLP(\n",
      "    (_sequential): Sequential(\n",
      "      (dense0): Linear(in_features=113, out_features=32, bias=True)\n",
      "      (batchnorm0): BatchNorm1d(32, eps=1e-05, momentum=0.1, affine=True, track_running_stats=True)\n",
      "      (activation0): ReLU()\n",
      "      (dropout0): Dropout(p=0.3, inplace=False)\n",
      "      (dense1): Linear(in_features=32, out_features=16, bias=True)\n",
      "      (batchnorm1): BatchNorm1d(16, eps=1e-05, momentum=0.1, affine=True, track_running_stats=True)\n",
      "      (activation1): ReLU()\n",
      "      (dropout1): Dropout(p=0.3, inplace=False)\n",
      "    )\n",
      "  )\n",
      "  (final_layer): Linear(in_features=16, out_features=1, bias=True)\n",
      ")\n"
     ]
    },
    {
     "data": {
      "application/vnd.jupyter.widget-view+json": {
       "model_id": "cc14aca7abdf4355b65be21697d2f51d",
       "version_major": 2,
       "version_minor": 0
      },
      "text/plain": [
       "HBox(children=(FloatProgress(value=0.0, description='training routine', max=10.0, style=ProgressStyle(descript…"
      ]
     },
     "metadata": {},
     "output_type": "display_data"
    },
    {
     "data": {
      "application/vnd.jupyter.widget-view+json": {
       "model_id": "3e7c624eff1e4e9c960bfb785525120b",
       "version_major": 2,
       "version_minor": 0
      },
      "text/plain": [
       "HBox(children=(FloatProgress(value=0.0, description='train', max=67.0, style=ProgressStyle(description_width='…"
      ]
     },
     "metadata": {},
     "output_type": "display_data"
    },
    {
     "data": {
      "application/vnd.jupyter.widget-view+json": {
       "model_id": "2ccf19f0bfbc41448dc96d3e0732e2a1",
       "version_major": 2,
       "version_minor": 0
      },
      "text/plain": [
       "HBox(children=(FloatProgress(value=0.0, description='valid', max=29.0, style=ProgressStyle(description_width='…"
      ]
     },
     "metadata": {},
     "output_type": "display_data"
    },
    {
     "name": "stdout",
     "output_type": "stream",
     "text": [
      "GPU is available, transfer model to GPU.\n",
      "WideDeep(\n",
      "  (embedding:gender): Embedding(4, 16, padding_idx=0)\n",
      "  (embedding:movieId): Embedding(1610, 16, padding_idx=0)\n",
      "  (embedding:occupation): Embedding(23, 16, padding_idx=0)\n",
      "  (embedding:zipCode): Embedding(2676, 16, padding_idx=0)\n",
      "  (embedding:genres): Embedding(20, 16, padding_idx=0)\n",
      "  (embedding:histHighRatedMovieIds): Embedding(2849, 16, padding_idx=0)\n",
      "  (embedding:negHistMovieIds): Embedding(3886, 16, padding_idx=0)\n",
      "  (pooling:genres): SumPooling()\n",
      "  (pooling:histHighRatedMovieIds): SumPooling()\n",
      "  (pooling:negHistMovieIds): SumPooling()\n",
      "  (mlp): MLP(\n",
      "    (_sequential): Sequential(\n",
      "      (dense0): Linear(in_features=81, out_features=32, bias=True)\n",
      "      (batchnorm0): BatchNorm1d(32, eps=1e-05, momentum=0.1, affine=True, track_running_stats=True)\n",
      "      (activation0): ReLU()\n",
      "      (dropout0): Dropout(p=0.3, inplace=False)\n",
      "      (dense1): Linear(in_features=32, out_features=16, bias=True)\n",
      "      (batchnorm1): BatchNorm1d(16, eps=1e-05, momentum=0.1, affine=True, track_running_stats=True)\n",
      "      (activation1): ReLU()\n",
      "      (dropout1): Dropout(p=0.3, inplace=False)\n",
      "    )\n",
      "  )\n",
      "  (final_layer): Linear(in_features=64, out_features=1, bias=True)\n",
      ")\n"
     ]
    },
    {
     "data": {
      "application/vnd.jupyter.widget-view+json": {
       "model_id": "db5022dfb16d4d8f9483b0b0cd1f6e78",
       "version_major": 2,
       "version_minor": 0
      },
      "text/plain": [
       "HBox(children=(FloatProgress(value=0.0, description='training routine', max=10.0, style=ProgressStyle(descript…"
      ]
     },
     "metadata": {},
     "output_type": "display_data"
    },
    {
     "data": {
      "application/vnd.jupyter.widget-view+json": {
       "model_id": "a1f0b08d0bb543c08a92e2fe01b9dc28",
       "version_major": 2,
       "version_minor": 0
      },
      "text/plain": [
       "HBox(children=(FloatProgress(value=0.0, description='train', max=67.0, style=ProgressStyle(description_width='…"
      ]
     },
     "metadata": {},
     "output_type": "display_data"
    },
    {
     "data": {
      "application/vnd.jupyter.widget-view+json": {
       "model_id": "f536ddeb865d4edd87fa339b460019f1",
       "version_major": 2,
       "version_minor": 0
      },
      "text/plain": [
       "HBox(children=(FloatProgress(value=0.0, description='valid', max=29.0, style=ProgressStyle(description_width='…"
      ]
     },
     "metadata": {},
     "output_type": "display_data"
    },
    {
     "name": "stdout",
     "output_type": "stream",
     "text": [
      "GPU is available, transfer model to GPU.\n",
      "DeepFM(\n",
      "  (embedding:gender): Embedding(4, 16, padding_idx=0)\n",
      "  (embedding:movieId): Embedding(1610, 16, padding_idx=0)\n",
      "  (embedding:occupation): Embedding(23, 16, padding_idx=0)\n",
      "  (embedding:zipCode): Embedding(2676, 16, padding_idx=0)\n",
      "  (embedding:genres): Embedding(20, 16, padding_idx=0)\n",
      "  (embedding:histHighRatedMovieIds): Embedding(2849, 16, padding_idx=0)\n",
      "  (embedding:negHistMovieIds): Embedding(3886, 16, padding_idx=0)\n",
      "  (embedding:age): Linear(in_features=1, out_features=16, bias=False)\n",
      "  (pooling:genres): MaxPooling()\n",
      "  (pooling:histHighRatedMovieIds): MaxPooling()\n",
      "  (pooling:negHistMovieIds): MaxPooling()\n",
      "  (linear): MLP(\n",
      "    (_sequential): Sequential(\n",
      "      (dense0): Linear(in_features=1, out_features=1, bias=True)\n",
      "      (batchnorm0): BatchNorm1d(1, eps=1e-05, momentum=0.1, affine=True, track_running_stats=True)\n",
      "    )\n",
      "  )\n",
      "  (fm): FM()\n",
      "  (mlp): MLP(\n",
      "    (_sequential): Sequential(\n",
      "      (dense0): Linear(in_features=129, out_features=32, bias=True)\n",
      "      (batchnorm0): BatchNorm1d(32, eps=1e-05, momentum=0.1, affine=True, track_running_stats=True)\n",
      "      (activation0): ReLU()\n",
      "      (dropout0): Dropout(p=0.3, inplace=False)\n",
      "      (dense1): Linear(in_features=32, out_features=16, bias=True)\n",
      "      (batchnorm1): BatchNorm1d(16, eps=1e-05, momentum=0.1, affine=True, track_running_stats=True)\n",
      "      (activation1): ReLU()\n",
      "      (dropout1): Dropout(p=0.3, inplace=False)\n",
      "    )\n",
      "  )\n",
      "  (final_layer): Linear(in_features=18, out_features=1, bias=True)\n",
      ")\n"
     ]
    },
    {
     "data": {
      "application/vnd.jupyter.widget-view+json": {
       "model_id": "2749c3f390244fc9a3f61c0167c9084b",
       "version_major": 2,
       "version_minor": 0
      },
      "text/plain": [
       "HBox(children=(FloatProgress(value=0.0, description='training routine', max=10.0, style=ProgressStyle(descript…"
      ]
     },
     "metadata": {},
     "output_type": "display_data"
    },
    {
     "data": {
      "application/vnd.jupyter.widget-view+json": {
       "model_id": "f941e37ed14e414db349abb8a66e9a97",
       "version_major": 2,
       "version_minor": 0
      },
      "text/plain": [
       "HBox(children=(FloatProgress(value=0.0, description='train', max=67.0, style=ProgressStyle(description_width='…"
      ]
     },
     "metadata": {},
     "output_type": "display_data"
    },
    {
     "data": {
      "application/vnd.jupyter.widget-view+json": {
       "model_id": "f86e87bc83d049d29e8bdafdf4fc2d2f",
       "version_major": 2,
       "version_minor": 0
      },
      "text/plain": [
       "HBox(children=(FloatProgress(value=0.0, description='valid', max=29.0, style=ProgressStyle(description_width='…"
      ]
     },
     "metadata": {},
     "output_type": "display_data"
    },
    {
     "name": "stdout",
     "output_type": "stream",
     "text": [
      "GPU is available, transfer model to GPU.\n",
      "DIN(\n",
      "  (embedding:gender): Embedding(4, 16, padding_idx=0)\n",
      "  (embedding:movieId): Embedding(1610, 16, padding_idx=0)\n",
      "  (embedding:occupation): Embedding(23, 16, padding_idx=0)\n",
      "  (embedding:zipCode): Embedding(2676, 16, padding_idx=0)\n",
      "  (embedding:genres): Embedding(20, 16, padding_idx=0)\n",
      "  (embedding:histHighRatedMovieIds): Embedding(2849, 16, padding_idx=0)\n",
      "  (embedding:negHistMovieIds): Embedding(3886, 16, padding_idx=0)\n",
      "  (pooling:genres): MaxPooling()\n",
      "  (pooling:negHistMovieIds): MaxPooling()\n",
      "  (attention_pooling:group1): Attention(\n",
      "    (mlp): MLP(\n",
      "      (_sequential): Sequential(\n",
      "        (dense0): Linear(in_features=64, out_features=16, bias=True)\n",
      "        (batchnorm0): BatchNorm1d(16, eps=1e-05, momentum=0.1, affine=True, track_running_stats=True)\n",
      "        (activation0): PReLU(num_parameters=1)\n",
      "        (dropout0): Dropout(p=0.1, inplace=False)\n",
      "        (dense1): Linear(in_features=16, out_features=8, bias=True)\n",
      "        (batchnorm1): BatchNorm1d(8, eps=1e-05, momentum=0.1, affine=True, track_running_stats=True)\n",
      "        (activation1): PReLU(num_parameters=1)\n",
      "        (dropout1): Dropout(p=0.1, inplace=False)\n",
      "      )\n",
      "    )\n",
      "    (fc): Linear(in_features=8, out_features=1, bias=True)\n",
      "  )\n",
      "  (mlp): MLP(\n",
      "    (_sequential): Sequential(\n",
      "      (dense0): Linear(in_features=113, out_features=32, bias=True)\n",
      "      (batchnorm0): BatchNorm1d(32, eps=1e-05, momentum=0.1, affine=True, track_running_stats=True)\n",
      "      (activation0): PReLU(num_parameters=1)\n",
      "      (dropout0): Dropout(p=0.3, inplace=False)\n",
      "      (dense1): Linear(in_features=32, out_features=16, bias=True)\n",
      "      (batchnorm1): BatchNorm1d(16, eps=1e-05, momentum=0.1, affine=True, track_running_stats=True)\n",
      "      (activation1): PReLU(num_parameters=1)\n",
      "      (dropout1): Dropout(p=0.3, inplace=False)\n",
      "    )\n",
      "  )\n",
      "  (final_layer): Linear(in_features=16, out_features=1, bias=True)\n",
      ")\n"
     ]
    },
    {
     "data": {
      "application/vnd.jupyter.widget-view+json": {
       "model_id": "a6e5a9a6264f476b9535ec200ca9313f",
       "version_major": 2,
       "version_minor": 0
      },
      "text/plain": [
       "HBox(children=(FloatProgress(value=0.0, description='training routine', max=10.0, style=ProgressStyle(descript…"
      ]
     },
     "metadata": {},
     "output_type": "display_data"
    },
    {
     "data": {
      "application/vnd.jupyter.widget-view+json": {
       "model_id": "1df224f5f70a4c8c89edc0f9d3ff550a",
       "version_major": 2,
       "version_minor": 0
      },
      "text/plain": [
       "HBox(children=(FloatProgress(value=0.0, description='train', max=67.0, style=ProgressStyle(description_width='…"
      ]
     },
     "metadata": {},
     "output_type": "display_data"
    },
    {
     "data": {
      "application/vnd.jupyter.widget-view+json": {
       "model_id": "a7e272f2fbf140948f259c59350dc068",
       "version_major": 2,
       "version_minor": 0
      },
      "text/plain": [
       "HBox(children=(FloatProgress(value=0.0, description='valid', max=29.0, style=ProgressStyle(description_width='…"
      ]
     },
     "metadata": {},
     "output_type": "display_data"
    },
    {
     "name": "stdout",
     "output_type": "stream",
     "text": [
      "GPU is available, transfer model to GPU.\n"
     ]
    }
   ],
   "source": [
    "import torch\n",
    "import torch.nn as nn\n",
    "import torch.optim as optim\n",
    "import torch.nn.functional as F\n",
    "from sklearn.metrics import roc_auc_score\n",
    "\n",
    "din_attention_groups = [\n",
    "    AttentionGroup(\n",
    "        name='group1',\n",
    "        pairs=[{'ad': 'movieId', 'pos_hist': 'histHighRatedMovieIds'}],\n",
    "        hidden_layers=[16, 8], att_dropout=0.1)]\n",
    "\n",
    "gru_attention_groups = [\n",
    "    AttentionGroup(\n",
    "        name='group1',\n",
    "        pairs=[{'ad': 'movieId', 'pos_hist': 'histHighRatedMovieIds'}],\n",
    "        hidden_layers=[16, 8], att_dropout=0.1, gru_type='GRU')]\n",
    "\n",
    "aigru_attention_groups = [\n",
    "    AttentionGroup(\n",
    "        name='group1',\n",
    "        pairs=[{'ad': 'movieId', 'pos_hist': 'histHighRatedMovieIds'}],\n",
    "        hidden_layers=[16, 8], att_dropout=0.1, gru_type='AIGRU')]\n",
    "\n",
    "agru_attention_groups = [\n",
    "    AttentionGroup(\n",
    "        name='group1',\n",
    "        pairs=[{'ad': 'movieId', 'pos_hist': 'histHighRatedMovieIds'}],\n",
    "        hidden_layers=[16, 8], att_dropout=0.1, gru_type='AGRU')]\n",
    "\n",
    "augru_attention_groups = [\n",
    "    AttentionGroup(\n",
    "        name='group1',\n",
    "        pairs=[{'ad': 'movieId', 'pos_hist': 'histHighRatedMovieIds'}],\n",
    "        hidden_layers=[16, 8], att_dropout=0.1, gru_type='AUGRU')]\n",
    "\n",
    "augru_attention_groups_with_neg = [\n",
    "    AttentionGroup(\n",
    "        name='group1',\n",
    "        pairs=[{'ad': 'movieId', 'pos_hist': 'histHighRatedMovieIds', 'neg_hist': 'negHistMovieIds'}],\n",
    "        hidden_layers=[16, 8], att_dropout=0.1, gru_type='AUGRU')]\n",
    "\n",
    "models = [\n",
    "    DNN(features, 2, 16, (32, 16), final_activation='sigmoid', dropout=0.3),\n",
    "    WideDeep(\n",
    "        features,\n",
    "        wide_features=['genres', 'movieId'],\n",
    "        deep_features=['age', 'gender', 'movieId', 'occupation',\n",
    "         'zipCode', 'histHighRatedMovieIds'],\n",
    "        cross_features=[('movieId', 'histHighRatedMovieIds')],\n",
    "        num_classes=2, embedding_size=16, hidden_layers=(32, 16),\n",
    "        final_activation='sigmoid', dropout=0.3),\n",
    "    DeepFM(features, 2, 16, (32, 16), final_activation='sigmoid', dropout=0.3),\n",
    "    DIN(features, din_attention_groups, 2, 16, (32, 16), final_activation='sigmoid', dropout=0.3)\n",
    "]\n",
    "\n",
    "scores = []\n",
    "for model in models:\n",
    "    print(model)\n",
    "    loss_func = nn.BCELoss()\n",
    "    optimizer = optim.Adam(model.parameters(), lr=0.001, weight_decay=1e-5)\n",
    "    fit(10, model, loss_func, optimizer,\n",
    "        train_loader, valid_loader, notebook=True, auxiliary_loss_rate=0.1)\n",
    "    scores.append(evaluation(test_df, valid_loader))\n"
   ]
  },
  {
   "cell_type": "code",
   "execution_count": 5,
   "metadata": {},
   "outputs": [
    {
     "name": "stdout",
     "output_type": "stream",
     "text": [
      "[0.5770925499353129, 0.5855605692467893, 0.5559490076046827, 0.5674368117131047]\n"
     ]
    }
   ],
   "source": [
    "print(scores)"
   ]
  },
  {
   "cell_type": "code",
   "execution_count": 6,
   "metadata": {},
   "outputs": [],
   "source": [
    "# share embeddings\n",
    "\n",
    "word2idx = features.category_features[1].column_flow.transformers[0].word2idx\n",
    "idx2word = features.category_features[1].column_flow.transformers[0].idx2word\n",
    "\n",
    "number_features = [\n",
    "    Number('age', StandardScaler())\n",
    "]\n",
    "\n",
    "category_features = [\n",
    "    Category('gender', CategoryEncoder(min_cnt=1)),\n",
    "    Category('movieId',\n",
    "             CategoryEncoder(word2idx=word2idx, idx2word=idx2word),\n",
    "             embedding_name='movieId'),\n",
    "    Category('occupation', CategoryEncoder(min_cnt=1)),\n",
    "    Category('zipCode', CategoryEncoder(min_cnt=1))\n",
    "]\n",
    "\n",
    "sequence_features = [\n",
    "    Sequence('genres', SequenceEncoder(sep='|', min_cnt=1)),\n",
    "    Sequence('histHighRatedMovieIds',\n",
    "             SequenceEncoder(sep='|', word2idx=word2idx, idx2word=idx2word),\n",
    "             embedding_name='movieId'),\n",
    "    Sequence('negHistMovieIds',\n",
    "             SequenceEncoder(sep='|', word2idx=word2idx, idx2word=idx2word),\n",
    "             embedding_name='movieId')\n",
    "]\n",
    "\n",
    "features, train_loader, valid_loader = create_dataloader_fn(\n",
    "    number_features, category_features, sequence_features, 64, train_df, 'label', test_df, 4)\n"
   ]
  },
  {
   "cell_type": "code",
   "execution_count": 7,
   "metadata": {},
   "outputs": [],
   "source": [
    "din_attention_groups = [\n",
    "    AttentionGroup(\n",
    "        name='group1',\n",
    "        pairs=[{'ad': 'movieId', 'pos_hist': 'histHighRatedMovieIds'}],\n",
    "        hidden_layers=[16, 8], att_dropout=0.1)]\n",
    "\n",
    "gru_attention_groups = [\n",
    "    AttentionGroup(\n",
    "        name='group1',\n",
    "        pairs=[{'ad': 'movieId', 'pos_hist': 'histHighRatedMovieIds'}],\n",
    "        hidden_layers=[16, 8], att_dropout=0.1, gru_type='GRU')]\n",
    "\n",
    "aigru_attention_groups = [\n",
    "    AttentionGroup(\n",
    "        name='group1',\n",
    "        pairs=[{'ad': 'movieId', 'pos_hist': 'histHighRatedMovieIds'}],\n",
    "        hidden_layers=[16, 8], att_dropout=0.1, gru_type='AIGRU')]\n",
    "\n",
    "agru_attention_groups = [\n",
    "    AttentionGroup(\n",
    "        name='group1',\n",
    "        pairs=[{'ad': 'movieId', 'pos_hist': 'histHighRatedMovieIds'}],\n",
    "        hidden_layers=[16, 8], att_dropout=0.1, gru_type='AGRU')]\n",
    "\n",
    "augru_attention_groups = [\n",
    "    AttentionGroup(\n",
    "        name='group1',\n",
    "        pairs=[{'ad': 'movieId', 'pos_hist': 'histHighRatedMovieIds'}],\n",
    "        hidden_layers=[16, 8], att_dropout=0.1, gru_type='AUGRU')]\n",
    "\n",
    "augru_attention_groups_with_neg = [\n",
    "    AttentionGroup(\n",
    "        name='group1',\n",
    "        pairs=[{'ad': 'movieId', 'pos_hist': 'histHighRatedMovieIds', 'neg_hist': 'negHistMovieIds'}],\n",
    "        hidden_layers=[16, 8], att_dropout=0.1, gru_type='AUGRU')]\n",
    "\n",
    "models = [\n",
    "    DNN(features, 2, 16, (32, 16), final_activation='sigmoid', dropout=0.3),\n",
    "    WideDeep(\n",
    "        features,\n",
    "        wide_features=['genres', 'movieId'],\n",
    "        deep_features=['age', 'gender', 'movieId', 'occupation',\n",
    "         'zipCode', 'histHighRatedMovieIds'],\n",
    "        cross_features=[('movieId', 'histHighRatedMovieIds')],\n",
    "        num_classes=2, embedding_size=16, hidden_layers=(32, 16),\n",
    "        final_activation='sigmoid', dropout=0.3),\n",
    "    DeepFM(features, 2, 16, (32, 16), final_activation='sigmoid', dropout=0.3),\n",
    "    DIN(features, din_attention_groups, 2, 16, (32, 16),\n",
    "        final_activation='sigmoid', dropout=0.3)\n",
    "]"
   ]
  },
  {
   "cell_type": "code",
   "execution_count": 8,
   "metadata": {},
   "outputs": [
    {
     "name": "stdout",
     "output_type": "stream",
     "text": [
      "DNN(\n",
      "  (embedding:gender): Embedding(4, 16, padding_idx=0)\n",
      "  (embedding:movieId): Embedding(1610, 16, padding_idx=0)\n",
      "  (embedding:occupation): Embedding(23, 16, padding_idx=0)\n",
      "  (embedding:zipCode): Embedding(2676, 16, padding_idx=0)\n",
      "  (embedding:genres): Embedding(20, 16, padding_idx=0)\n",
      "  (pooling:genres): MaxPooling()\n",
      "  (pooling:histHighRatedMovieIds): MaxPooling()\n",
      "  (pooling:negHistMovieIds): MaxPooling()\n",
      "  (mlp): MLP(\n",
      "    (_sequential): Sequential(\n",
      "      (dense0): Linear(in_features=113, out_features=32, bias=True)\n",
      "      (batchnorm0): BatchNorm1d(32, eps=1e-05, momentum=0.1, affine=True, track_running_stats=True)\n",
      "      (activation0): ReLU()\n",
      "      (dropout0): Dropout(p=0.3, inplace=False)\n",
      "      (dense1): Linear(in_features=32, out_features=16, bias=True)\n",
      "      (batchnorm1): BatchNorm1d(16, eps=1e-05, momentum=0.1, affine=True, track_running_stats=True)\n",
      "      (activation1): ReLU()\n",
      "      (dropout1): Dropout(p=0.3, inplace=False)\n",
      "    )\n",
      "  )\n",
      "  (final_layer): Linear(in_features=16, out_features=1, bias=True)\n",
      ")\n"
     ]
    },
    {
     "data": {
      "application/vnd.jupyter.widget-view+json": {
       "model_id": "95dcac0432754df9b6b574677d1ba038",
       "version_major": 2,
       "version_minor": 0
      },
      "text/plain": [
       "HBox(children=(FloatProgress(value=0.0, description='training routine', max=10.0, style=ProgressStyle(descript…"
      ]
     },
     "metadata": {},
     "output_type": "display_data"
    },
    {
     "data": {
      "application/vnd.jupyter.widget-view+json": {
       "model_id": "f8204bd807e947b0a0494b854b50b04a",
       "version_major": 2,
       "version_minor": 0
      },
      "text/plain": [
       "HBox(children=(FloatProgress(value=0.0, description='train', max=67.0, style=ProgressStyle(description_width='…"
      ]
     },
     "metadata": {},
     "output_type": "display_data"
    },
    {
     "data": {
      "application/vnd.jupyter.widget-view+json": {
       "model_id": "c3a8c1d59bd34d32b71d8bd918fb7035",
       "version_major": 2,
       "version_minor": 0
      },
      "text/plain": [
       "HBox(children=(FloatProgress(value=0.0, description='valid', max=29.0, style=ProgressStyle(description_width='…"
      ]
     },
     "metadata": {},
     "output_type": "display_data"
    },
    {
     "name": "stdout",
     "output_type": "stream",
     "text": [
      "GPU is available, transfer model to GPU.\n",
      "WideDeep(\n",
      "  (embedding:gender): Embedding(4, 16, padding_idx=0)\n",
      "  (embedding:movieId): Embedding(1610, 16, padding_idx=0)\n",
      "  (embedding:occupation): Embedding(23, 16, padding_idx=0)\n",
      "  (embedding:zipCode): Embedding(2676, 16, padding_idx=0)\n",
      "  (embedding:genres): Embedding(20, 16, padding_idx=0)\n",
      "  (pooling:genres): SumPooling()\n",
      "  (pooling:histHighRatedMovieIds): SumPooling()\n",
      "  (pooling:negHistMovieIds): SumPooling()\n",
      "  (mlp): MLP(\n",
      "    (_sequential): Sequential(\n",
      "      (dense0): Linear(in_features=81, out_features=32, bias=True)\n",
      "      (batchnorm0): BatchNorm1d(32, eps=1e-05, momentum=0.1, affine=True, track_running_stats=True)\n",
      "      (activation0): ReLU()\n",
      "      (dropout0): Dropout(p=0.3, inplace=False)\n",
      "      (dense1): Linear(in_features=32, out_features=16, bias=True)\n",
      "      (batchnorm1): BatchNorm1d(16, eps=1e-05, momentum=0.1, affine=True, track_running_stats=True)\n",
      "      (activation1): ReLU()\n",
      "      (dropout1): Dropout(p=0.3, inplace=False)\n",
      "    )\n",
      "  )\n",
      "  (final_layer): Linear(in_features=64, out_features=1, bias=True)\n",
      ")\n"
     ]
    },
    {
     "data": {
      "application/vnd.jupyter.widget-view+json": {
       "model_id": "ea8375bd4777466487523e4c8c97c9e0",
       "version_major": 2,
       "version_minor": 0
      },
      "text/plain": [
       "HBox(children=(FloatProgress(value=0.0, description='training routine', max=10.0, style=ProgressStyle(descript…"
      ]
     },
     "metadata": {},
     "output_type": "display_data"
    },
    {
     "data": {
      "application/vnd.jupyter.widget-view+json": {
       "model_id": "33e4060c64824629a9ca9fbbdc10ff96",
       "version_major": 2,
       "version_minor": 0
      },
      "text/plain": [
       "HBox(children=(FloatProgress(value=0.0, description='train', max=67.0, style=ProgressStyle(description_width='…"
      ]
     },
     "metadata": {},
     "output_type": "display_data"
    },
    {
     "data": {
      "application/vnd.jupyter.widget-view+json": {
       "model_id": "fa7e2e99b56c4a07b203adbdd36825ec",
       "version_major": 2,
       "version_minor": 0
      },
      "text/plain": [
       "HBox(children=(FloatProgress(value=0.0, description='valid', max=29.0, style=ProgressStyle(description_width='…"
      ]
     },
     "metadata": {},
     "output_type": "display_data"
    },
    {
     "name": "stdout",
     "output_type": "stream",
     "text": [
      "GPU is available, transfer model to GPU.\n",
      "DeepFM(\n",
      "  (embedding:gender): Embedding(4, 16, padding_idx=0)\n",
      "  (embedding:movieId): Embedding(1610, 16, padding_idx=0)\n",
      "  (embedding:occupation): Embedding(23, 16, padding_idx=0)\n",
      "  (embedding:zipCode): Embedding(2676, 16, padding_idx=0)\n",
      "  (embedding:genres): Embedding(20, 16, padding_idx=0)\n",
      "  (embedding:age): Linear(in_features=1, out_features=16, bias=False)\n",
      "  (pooling:genres): MaxPooling()\n",
      "  (pooling:histHighRatedMovieIds): MaxPooling()\n",
      "  (pooling:negHistMovieIds): MaxPooling()\n",
      "  (linear): MLP(\n",
      "    (_sequential): Sequential(\n",
      "      (dense0): Linear(in_features=1, out_features=1, bias=True)\n",
      "      (batchnorm0): BatchNorm1d(1, eps=1e-05, momentum=0.1, affine=True, track_running_stats=True)\n",
      "    )\n",
      "  )\n",
      "  (fm): FM()\n",
      "  (mlp): MLP(\n",
      "    (_sequential): Sequential(\n",
      "      (dense0): Linear(in_features=129, out_features=32, bias=True)\n",
      "      (batchnorm0): BatchNorm1d(32, eps=1e-05, momentum=0.1, affine=True, track_running_stats=True)\n",
      "      (activation0): ReLU()\n",
      "      (dropout0): Dropout(p=0.3, inplace=False)\n",
      "      (dense1): Linear(in_features=32, out_features=16, bias=True)\n",
      "      (batchnorm1): BatchNorm1d(16, eps=1e-05, momentum=0.1, affine=True, track_running_stats=True)\n",
      "      (activation1): ReLU()\n",
      "      (dropout1): Dropout(p=0.3, inplace=False)\n",
      "    )\n",
      "  )\n",
      "  (final_layer): Linear(in_features=18, out_features=1, bias=True)\n",
      ")\n"
     ]
    },
    {
     "data": {
      "application/vnd.jupyter.widget-view+json": {
       "model_id": "2707a5eb30014c219298d8ee36f6305e",
       "version_major": 2,
       "version_minor": 0
      },
      "text/plain": [
       "HBox(children=(FloatProgress(value=0.0, description='training routine', max=10.0, style=ProgressStyle(descript…"
      ]
     },
     "metadata": {},
     "output_type": "display_data"
    },
    {
     "data": {
      "application/vnd.jupyter.widget-view+json": {
       "model_id": "6089544593664f229d1a4a53c43985ca",
       "version_major": 2,
       "version_minor": 0
      },
      "text/plain": [
       "HBox(children=(FloatProgress(value=0.0, description='train', max=67.0, style=ProgressStyle(description_width='…"
      ]
     },
     "metadata": {},
     "output_type": "display_data"
    },
    {
     "data": {
      "application/vnd.jupyter.widget-view+json": {
       "model_id": "9f455845958c4e8999321efa9a20faec",
       "version_major": 2,
       "version_minor": 0
      },
      "text/plain": [
       "HBox(children=(FloatProgress(value=0.0, description='valid', max=29.0, style=ProgressStyle(description_width='…"
      ]
     },
     "metadata": {},
     "output_type": "display_data"
    },
    {
     "name": "stdout",
     "output_type": "stream",
     "text": [
      "GPU is available, transfer model to GPU.\n",
      "DIN(\n",
      "  (embedding:gender): Embedding(4, 16, padding_idx=0)\n",
      "  (embedding:movieId): Embedding(1610, 16, padding_idx=0)\n",
      "  (embedding:occupation): Embedding(23, 16, padding_idx=0)\n",
      "  (embedding:zipCode): Embedding(2676, 16, padding_idx=0)\n",
      "  (embedding:genres): Embedding(20, 16, padding_idx=0)\n",
      "  (pooling:genres): MaxPooling()\n",
      "  (pooling:negHistMovieIds): MaxPooling()\n",
      "  (attention_pooling:group1): Attention(\n",
      "    (mlp): MLP(\n",
      "      (_sequential): Sequential(\n",
      "        (dense0): Linear(in_features=64, out_features=16, bias=True)\n",
      "        (batchnorm0): BatchNorm1d(16, eps=1e-05, momentum=0.1, affine=True, track_running_stats=True)\n",
      "        (activation0): PReLU(num_parameters=1)\n",
      "        (dropout0): Dropout(p=0.1, inplace=False)\n",
      "        (dense1): Linear(in_features=16, out_features=8, bias=True)\n",
      "        (batchnorm1): BatchNorm1d(8, eps=1e-05, momentum=0.1, affine=True, track_running_stats=True)\n",
      "        (activation1): PReLU(num_parameters=1)\n",
      "        (dropout1): Dropout(p=0.1, inplace=False)\n",
      "      )\n",
      "    )\n",
      "    (fc): Linear(in_features=8, out_features=1, bias=True)\n",
      "  )\n",
      "  (mlp): MLP(\n",
      "    (_sequential): Sequential(\n",
      "      (dense0): Linear(in_features=113, out_features=32, bias=True)\n",
      "      (batchnorm0): BatchNorm1d(32, eps=1e-05, momentum=0.1, affine=True, track_running_stats=True)\n",
      "      (activation0): PReLU(num_parameters=1)\n",
      "      (dropout0): Dropout(p=0.3, inplace=False)\n",
      "      (dense1): Linear(in_features=32, out_features=16, bias=True)\n",
      "      (batchnorm1): BatchNorm1d(16, eps=1e-05, momentum=0.1, affine=True, track_running_stats=True)\n",
      "      (activation1): PReLU(num_parameters=1)\n",
      "      (dropout1): Dropout(p=0.3, inplace=False)\n",
      "    )\n",
      "  )\n",
      "  (final_layer): Linear(in_features=16, out_features=1, bias=True)\n",
      ")\n"
     ]
    },
    {
     "data": {
      "application/vnd.jupyter.widget-view+json": {
       "model_id": "7b8bf7bf58074c17981feb9c7c1f216a",
       "version_major": 2,
       "version_minor": 0
      },
      "text/plain": [
       "HBox(children=(FloatProgress(value=0.0, description='training routine', max=10.0, style=ProgressStyle(descript…"
      ]
     },
     "metadata": {},
     "output_type": "display_data"
    },
    {
     "data": {
      "application/vnd.jupyter.widget-view+json": {
       "model_id": "cc0821c3af5f4e5fb2140320d142e517",
       "version_major": 2,
       "version_minor": 0
      },
      "text/plain": [
       "HBox(children=(FloatProgress(value=0.0, description='train', max=67.0, style=ProgressStyle(description_width='…"
      ]
     },
     "metadata": {},
     "output_type": "display_data"
    },
    {
     "data": {
      "application/vnd.jupyter.widget-view+json": {
       "model_id": "c7c7cc5b966442b3b788c9b736406608",
       "version_major": 2,
       "version_minor": 0
      },
      "text/plain": [
       "HBox(children=(FloatProgress(value=0.0, description='valid', max=29.0, style=ProgressStyle(description_width='…"
      ]
     },
     "metadata": {},
     "output_type": "display_data"
    },
    {
     "name": "stdout",
     "output_type": "stream",
     "text": [
      "GPU is available, transfer model to GPU.\n"
     ]
    }
   ],
   "source": [
    "scores = []\n",
    "for model in models:\n",
    "    print(model)\n",
    "    loss_func = nn.BCELoss()\n",
    "    optimizer = optim.Adam(model.parameters(), lr=0.001, weight_decay=1e-5)\n",
    "    fit(10, model, loss_func, optimizer,\n",
    "        train_loader, valid_loader, notebook=True, auxiliary_loss_rate=0.1)\n",
    "    scores.append(evaluation(test_df, valid_loader))"
   ]
  },
  {
   "cell_type": "code",
   "execution_count": 9,
   "metadata": {},
   "outputs": [
    {
     "name": "stdout",
     "output_type": "stream",
     "text": [
      "[0.5632968350635827, 0.5985434350446499, 0.5694146603136537, 0.5993461866144962]\n"
     ]
    }
   ],
   "source": [
    "print(scores)"
   ]
  },
  {
   "cell_type": "code",
   "execution_count": null,
   "metadata": {},
   "outputs": [],
   "source": []
  },
  {
   "cell_type": "code",
   "execution_count": null,
   "metadata": {},
   "outputs": [],
   "source": []
  },
  {
   "cell_type": "code",
   "execution_count": null,
   "metadata": {},
   "outputs": [],
   "source": []
  }
 ],
 "metadata": {
  "kernelspec": {
   "display_name": "Python 3",
   "language": "python",
   "name": "python3"
  },
  "language_info": {
   "codemirror_mode": {
    "name": "ipython",
    "version": 3
   },
   "file_extension": ".py",
   "mimetype": "text/x-python",
   "name": "python",
   "nbconvert_exporter": "python",
   "pygments_lexer": "ipython3",
   "version": "3.7.6"
  }
 },
 "nbformat": 4,
 "nbformat_minor": 4
}
